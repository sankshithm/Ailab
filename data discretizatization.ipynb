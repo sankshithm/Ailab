{
 "cells": [
  {
   "cell_type": "code",
   "execution_count": 2,
   "id": "f43967a9",
   "metadata": {},
   "outputs": [
    {
     "name": "stdout",
     "output_type": "stream",
     "text": [
      "   number      bins\n",
      "0      41  (40, 60]\n",
      "1      29  (20, 40]\n",
      "2      32  (20, 40]\n",
      "3      46  (40, 60]\n",
      "4      73  (60, 80]\n",
      "5      36  (20, 40]\n",
      "6      58  (40, 60]\n",
      "7      18   (1, 20]\n",
      "8      48  (40, 60]\n",
      "9      46  (40, 60]\n",
      "[(40, 60], (20, 40], (60, 80], (1, 20]]\n",
      "Categories (5, interval[int64, right]): [(1, 20] < (20, 40] < (40, 60] < (60, 80] < (80, 100]]\n"
     ]
    }
   ],
   "source": [
    "import pandas as pd\n",
    "import numpy as np\n",
    "df = pd.DataFrame({'number':np.random.randint(1,100,10)})\n",
    "df['bins']=pd.cut(x=df['number'],bins=[1,20,40,60,80,100])\n",
    "print(df)\n",
    "print(df['bins'].unique())"
   ]
  },
  {
   "cell_type": "code",
   "execution_count": null,
   "id": "1d9f2896",
   "metadata": {},
   "outputs": [],
   "source": []
  }
 ],
 "metadata": {
  "kernelspec": {
   "display_name": "Python 3 (ipykernel)",
   "language": "python",
   "name": "python3"
  },
  "language_info": {
   "codemirror_mode": {
    "name": "ipython",
    "version": 3
   },
   "file_extension": ".py",
   "mimetype": "text/x-python",
   "name": "python",
   "nbconvert_exporter": "python",
   "pygments_lexer": "ipython3",
   "version": "3.11.4"
  }
 },
 "nbformat": 4,
 "nbformat_minor": 5
}
